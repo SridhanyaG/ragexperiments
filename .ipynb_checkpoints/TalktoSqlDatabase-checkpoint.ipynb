{
 "cells": [
  {
   "cell_type": "code",
   "execution_count": null,
   "id": "1d9957fe-7f11-4e73-9dc3-c8a0235ca54d",
   "metadata": {},
   "outputs": [],
   "source": [
    "from google.cloud import aiplatform\n",
    "import vertexai\n",
    "from vertexai.preview.language_models import CodeGenerationModel, CodeChatModel\n",
    "import google.cloud.sql.connector\n",
    "from google.cloud.sql.connector import Connector\n",
    "import sqlalchemy\n",
    "from importlib.metadata import version\n",
    "from datetime import datetime\n",
    "\n",
    "print(\"google-cloud-aiplatform (vertexai) version:\", version('google-cloud-aiplatform'))\n",
    "print(\"google-cloud-sql-connector version:\", version('cloud-sql-python-connector'))\n",
    "print(\"sqlalchemy version:\", version('sqlalchemy'))\n",
    "print(\"asyncpg version:\", version('asyncpg'))"
   ]
  },
  {
   "cell_type": "code",
   "execution_count": null,
   "id": "62c013a2-106c-4577-bb31-b401203dac65",
   "metadata": {},
   "outputs": [],
   "source": [
    "# Utils\n",
    "from langchain.schema import HumanMessage, SystemMessage\n",
    "from langchain.llms import VertexAI\n",
    "from langchain_google_vertexai import VertexAI\n",
    "from langchain.embeddings import VertexAIEmbeddings\n",
    "# from langchain.chat_models import ChatVertexAI\n",
    "from langchain_google_vertexai import ChatVertexAI\n",
    "from google.cloud import aiplatform\n",
    "import time\n",
    "from typing import List\n"
   ]
  },
  {
   "cell_type": "code",
   "execution_count": null,
   "id": "13e89765-1d1b-419a-a425-f3bb0caf8c31",
   "metadata": {},
   "outputs": [],
   "source": [
    "PROJECT_ID=\"\"\n",
    "REGION=\"\""
   ]
  },
  {
   "cell_type": "markdown",
   "id": "2d10f5b1-02c0-4fa3-8aab-7727a34a6011",
   "metadata": {},
   "source": []
  },
  {
   "cell_type": "code",
   "execution_count": null,
   "id": "f005fd73-c6b6-41d8-b671-aea6b1e06d03",
   "metadata": {},
   "outputs": [],
   "source": [
    "import ssl\n",
    "connect_args = {}\n",
    "ssl_context = ssl.SSLContext()\n",
    "ssl_context.verify_mode = ssl.CERT_REQUIRED\n",
    "ssl_context.load_verify_locations(\"./ssl/root_cert.pem\")\n",
    "ssl_context.load_cert_chain(\"./ssl/client_cert.pem\", \"./ssl/client_key.pem\")\n",
    "connect_args[\"ssl_context\"] = ssl_context"
   ]
  },
  {
   "cell_type": "code",
   "execution_count": null,
   "id": "f5264aae-54e9-4bf7-9cb7-5a6d765b79b3",
   "metadata": {},
   "outputs": [],
   "source": [
    "\n",
    "engine = sqlalchemy.create_engine(\n",
    "    \"<db details>\",connect_args=connect_args\n",
    ")"
   ]
  },
  {
   "cell_type": "code",
   "execution_count": null,
   "id": "7c452976-9297-46da-867d-aecd4a1e4117",
   "metadata": {},
   "outputs": [],
   "source": [
    "from langchain_community.utilities import SQLDatabase\n",
    "\n",
    "db = SQLDatabase(engine)\n",
    "print(db.dialect)\n",
    "dialect=db.dialect\n",
    "print(db.get_usable_table_names())\n",
    "query=\"select * from schema.table1 where logon_id='vramya'\"\n",
    "print(query)"
   ]
  },
  {
   "cell_type": "code",
   "execution_count": null,
   "id": "b813cf1f-3b82-40e4-8844-13acaf0c12b5",
   "metadata": {},
   "outputs": [],
   "source": [
    "db.run(query)"
   ]
  },
  {
   "cell_type": "markdown",
   "id": "eb935d56-7a39-47d0-af4e-0a23ced90cad",
   "metadata": {},
   "source": []
  },
  {
   "cell_type": "code",
   "execution_count": null,
   "id": "3aab5ee9-485f-4049-bdde-b736aba051fb",
   "metadata": {},
   "outputs": [],
   "source": [
    "schema_value_generator = \"SELECT concat('The table is called ',table_schema,'.',table_name, ' and it has following columns ',table_column,'.') as table_column FROM ( SELECT table_schema, table_name, array_agg(column_name) as table_column FROM INFORMATION_SCHEMA.columns WHERE table_schema = '<schema name>' and table_name in (<comma seperated table name>) GROUP BY table_schema, table_name ORDER BY table_name) col GROUP BY table_schema,table_name, table_column;\"\n"
   ]
  },
  {
   "cell_type": "code",
   "execution_count": null,
   "id": "254a25f6-9fa7-4465-b84f-5b33d2c2fc2d",
   "metadata": {},
   "outputs": [],
   "source": [
    "tabledetails = db.run(schema_value_generator)"
   ]
  },
  {
   "cell_type": "code",
   "execution_count": null,
   "id": "6b967355-74c6-404d-b5fc-97feed9abb0c",
   "metadata": {},
   "outputs": [],
   "source": [
    "tabledetails"
   ]
  },
  {
   "cell_type": "code",
   "execution_count": null,
   "id": "1ee64358-2d37-4ffc-a9b6-a8dce69edcc6",
   "metadata": {},
   "outputs": [],
   "source": [
    "tabledetails=tabledetails.replace(\"'\",'')\n",
    "tabledetails=tabledetails.replace(\",),\", \"\")\n",
    "tabledetails=tabledetails.replace(\",)]\", \"\")\n",
    "tabledetails=tabledetails.replace(\"(\", \"\")\n",
    "tabledetails=tabledetails.replace(\"[\", \"\")\n",
    "tabledetails=tabledetails.replace(\"]\", \"\")\n",
    "# tabledetails=tabledetails.split(\".\")"
   ]
  },
  {
   "cell_type": "code",
   "execution_count": null,
   "id": "b2667ab1-21ac-471a-82fc-5a7485f7f022",
   "metadata": {},
   "outputs": [],
   "source": [
    "tabledetails"
   ]
  },
  {
   "cell_type": "code",
   "execution_count": null,
   "id": "f081df0c-f59d-4437-81d4-46d39bcbfb0b",
   "metadata": {},
   "outputs": [],
   "source": [
    "from langchain_experimental.sql import SQLDatabaseSequentialChain\n",
    "from vertexai.preview.language_models import CodeGenerationModel, CodeChatModel\n",
    "\n",
    "from langchain.agents.agent_toolkits import SQLDatabaseToolkit\n",
    "from sqlalchemy.ext.declarative import declarative_base\n",
    "from langchain.agents.agent_types import AgentType\n",
    "from langchain import LLMChain,PromptTemplate\n",
    "from langchain.agents import create_sql_agent \n",
    "from sqlalchemy.engine import create_engine\n",
    "from sqlalchemy.orm import sessionmaker\n",
    "from sqlalchemy import create_engine\n",
    "from langchain.llms import VertexAI\n",
    "from IPython.display import display, Markdown\n",
    "from langchain import SQLDatabase\n",
    "from tabulate import tabulate\n",
    "from datetime import date\n",
    "from pathlib import Path\n",
    "import pandas as pd\n",
    "import time"
   ]
  },
  {
   "cell_type": "code",
   "execution_count": null,
   "id": "667e28b0-3d30-43d1-97d4-ed3f9561fa38",
   "metadata": {},
   "outputs": [],
   "source": [
    "import langchain"
   ]
  },
  {
   "cell_type": "code",
   "execution_count": null,
   "id": "b2d92594-4a5e-4915-8f0d-a69eb7b8d32f",
   "metadata": {},
   "outputs": [],
   "source": [
    "import sqlalchemy"
   ]
  },
  {
   "cell_type": "code",
   "execution_count": null,
   "id": "9d9721b3-c686-446d-85d6-f9c10e0f5267",
   "metadata": {},
   "outputs": [],
   "source": [
    "import vertexai\n",
    "\n",
    "PROJECT_ID = \" \"  # @param {type:\"string\"}\n",
    "REGION = \" \"  # @param {type:\"string\"}\n",
    "\n",
    "# Initialize Vertex AI SDK\n",
    "vertexai.init(project=PROJECT_ID, location=REGION)"
   ]
  },
  {
   "cell_type": "code",
   "execution_count": null,
   "id": "49815939-445e-4122-90b0-9fc0ec9c2549",
   "metadata": {},
   "outputs": [],
   "source": [
    "# Utils\n",
    "from langchain.schema import HumanMessage, SystemMessage\n",
    "from langchain.llms import VertexAI\n",
    "from langchain_google_vertexai import VertexAI\n",
    "from langchain.embeddings import VertexAIEmbeddings\n",
    "# from langchain.chat_models import ChatVertexAI\n",
    "from langchain_google_vertexai import ChatVertexAI\n",
    "from google.cloud import aiplatform\n",
    "import time\n",
    "from typing import List\n",
    "\n"
   ]
  },
  {
   "cell_type": "code",
   "execution_count": null,
   "id": "7084a46c-e998-49e8-ae02-72ecd8d8c47d",
   "metadata": {},
   "outputs": [],
   "source": [
    "llm = VertexAI(\n",
    "    model_name=\"code-bison@001\", max_output_tokens=1000, temperature=0.2\n",
    ")"
   ]
  },
  {
   "cell_type": "code",
   "execution_count": null,
   "id": "a463a350-e003-4b75-8da1-cc7fb102ac09",
   "metadata": {},
   "outputs": [],
   "source": [
    "CUSTOM_SQL_PROMPT = \"\"\"\n",
    "You are a GoogleSQL expert. Given an input question, first create a syntactically\n",
    "correct GoogleSQL query to run, then look at the results of the query and return\n",
    "the answer to the input question. \n",
    "\n",
    "Unless the user specifies in the question a specific number of examples to obtain,\n",
    "query for at most {top_k} results using the LIMIT clause as per GoogleSQL. You can\n",
    "order the results to return the most informative data in the database.\n",
    "\n",
    "query  all columns from a table. You must query only the columns that are\n",
    "needed to answer the question. Wrap each column name and value in backticks (`)\n",
    "to denote them as delimited identifiers.\n",
    "\n",
    "Pay attention to use only the column names you can see in the tables below. Be careful\n",
    "to not query for columns that do not exist. Also, pay attention to which column\n",
    "is in which table.\n",
    "\n",
    "Name all columns in the returned data appropriately. If a column does not have a\n",
    "matching name in the schema, create an appropriate name reflecting its content.\n",
    "\n",
    "Write an initial draft of the query. Then double check the postgresql query for common mistakes, including:\n",
    "- Using NOT IN with NULL values\n",
    "- Using UNION when UNION ALL should have been used\n",
    "- Using BETWEEN for exclusive ranges\n",
    "- Data type mismatch in predicates\n",
    "- Properly quoting identifiers\n",
    "- Using the correct number of arguments for functions\n",
    "- Casting to the correct data type\n",
    "- Using the proper columns for joins\n",
    "\n",
    "Use the following format:\n",
    "\n",
    "Question: \"Question here\"\n",
    "\n",
    "SQLQuery: \"SQL Query to run\"\n",
    "\n",
    "SQLResult: \"Result of the SQLQuery\"\n",
    "\n",
    "Answer: \"Final answer here\"\n",
    "\n",
    "\n",
    "Today''s date is {today_date}. When querying between dates, add the dates in quotes\n",
    "('')\n",
    "\n",
    "If someone asks for a specific month, use the range between the current month''s\n",
    "start date and the current month''s end date.\n",
    "\n",
    "If someone asks for a specific year, use the range between the first month of the\n",
    "current year and the current month''s end date.\n",
    "\n",
    "\n",
    "Remember to always use natural language when writing your final answer.\n",
    "\n",
    "Only use the following tables:\n",
    "\n",
    "{table_info}\n",
    "\n",
    "Question: {question}\n",
    "\n",
    "\"\"\""
   ]
  },
  {
   "cell_type": "markdown",
   "id": "4b3db85e-aa96-4fc9-b3a4-12b4a41c5782",
   "metadata": {},
   "source": [
    "# option 1"
   ]
  },
  {
   "cell_type": "code",
   "execution_count": null,
   "id": "320cbf4f-fa5c-4c2c-9054-06f45c568408",
   "metadata": {},
   "outputs": [],
   "source": [
    "from datetime import datetime\n",
    "\n",
    "def create_sql_chain(question: str, table_info: str = tabledetails, top_k:int=100, llm: VertexAI = llm, db=db):\n",
    "    \"\"\" Create a Q&A conversation chain using the VertexAI LLM.\n",
    "\n",
    "    \"\"\"\n",
    "    print(table_info)\n",
    "    db_chain = SQLDatabaseSequentialChain.from_llm(\n",
    "        llm,\n",
    "        db,\n",
    "        verbose=True,\n",
    "        return_intermediate_steps=True\n",
    "    )\n",
    "    test_prompt = PromptTemplate(template=CUSTOM_SQL_PROMPT, input_variables=[\"question\", \"table_info\", \"today_date\", \"top_k\"])\n",
    "\n",
    "    today_date = datetime.now().strftime(\"%m/%d/%Y\")\n",
    "    output = db_chain(test_prompt.format(\n",
    "        question=question,\n",
    "        table_info=table_info,\n",
    "        today_date=today_date,\n",
    "        top_k=top_k\n",
    "        ))\n",
    "    sql_query = output[\"intermediate_steps\"][1]\n",
    "    response = output[\"result\"]\n",
    "    \n",
    "    return response, sql_query"
   ]
  },
  {
   "cell_type": "code",
   "execution_count": null,
   "id": "53d091d4-e995-464e-8124-70b36860d228",
   "metadata": {},
   "outputs": [],
   "source": [
    "query=get_sql_from_code_gen(PROJECT_ID, REGION, CUSTOM_SQL_PROMPT, 'Find the program run today')\n",
    "query"
   ]
  },
  {
   "cell_type": "markdown",
   "id": "4b4e2431-2717-4c21-b33d-1b8a313f9b28",
   "metadata": {},
   "source": [
    "# Options 2"
   ]
  },
  {
   "cell_type": "code",
   "execution_count": null,
   "id": "e4235a30-0921-4759-9e6f-564c44a5a724",
   "metadata": {},
   "outputs": [],
   "source": [
    "\n",
    "def get_sql_from_code_gen(project: str, region: str, prompt: str, question: str, temperature: float = 0.2, max_output_tokens: int = 1024, model: str = 'code-bison@001'):\n",
    "\n",
    "    combined_prompt = PromptTemplate(template=prompt, input_variables=[\"question\", \"table_info\", \"today_date\", \"top_k\"])\n",
    "\n",
    "    # combined_prompt = f\"\"\"{prompt}\\n The test question to be answered is: {question}\\n The corresponding SQL is: \"\"\"\n",
    "    \n",
    "    vertexai.init(project=project, location=region)\n",
    "    parameters = {\n",
    "        \"temperature\": temperature,\n",
    "        \"max_output_tokens\": max_output_tokens\n",
    "    }\n",
    "    code_gen_model = CodeGenerationModel.from_pretrained(model)\n",
    "\n",
    "    print(f\"\"\"Prompt to send to code gen API: \\n{combined_prompt}\"\"\")\n",
    "\n",
    "    response = code_gen_model.predict(\n",
    "        prefix = combined_prompt.format(\n",
    "            question=question,\n",
    "            table_info=tabledetails,\n",
    "            today_date=datetime.now().strftime(\"%m/%d/%Y\"),\n",
    "            top_k=100\n",
    "        ),\n",
    "        **parameters\n",
    "    )\n",
    "\n",
    "    return (response.text)"
   ]
  },
  {
   "cell_type": "code",
   "execution_count": null,
   "id": "7c4e66d5-c9a2-4d21-b496-1e760529a289",
   "metadata": {},
   "outputs": [],
   "source": [
    "query=get_sql_from_code_gen(PROJECT_ID, REGION, CUSTOM_SQL_PROMPT, 'Find the program run today')\n",
    "query"
   ]
  },
  {
   "cell_type": "code",
   "execution_count": null,
   "id": "664abe6a-fe41-478b-949d-9755ad99aaf6",
   "metadata": {},
   "outputs": [],
   "source": []
  }
 ],
 "metadata": {
  "kernelspec": {
   "display_name": "Python 3 (ipykernel)",
   "language": "python",
   "name": "python3"
  },
  "language_info": {
   "codemirror_mode": {
    "name": "ipython",
    "version": 3
   },
   "file_extension": ".py",
   "mimetype": "text/x-python",
   "name": "python",
   "nbconvert_exporter": "python",
   "pygments_lexer": "ipython3",
   "version": "3.9.18"
  }
 },
 "nbformat": 4,
 "nbformat_minor": 5
}
