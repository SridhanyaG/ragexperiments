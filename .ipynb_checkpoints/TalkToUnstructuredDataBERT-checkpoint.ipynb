{
 "cells": [
  {
   "cell_type": "code",
   "execution_count": null,
   "id": "65fb8046-c5b0-47aa-92ae-83e0ed8fcd28",
   "metadata": {},
   "outputs": [],
   "source": [
    "import os\n",
    "import re\n",
    "from langchain.vectorstores.neo4j_vector import Neo4jVector\n",
    "from langchain.document_loaders import WikipediaLoader\n",
    "from langchain.embeddings.openai import OpenAIEmbeddings\n",
    "from langchain.text_splitter import CharacterTextSplitter, RecursiveCharacterTextSplitter\n",
    "from transformers import AutoModelForSeq2SeqLM, AutoTokenizer\n",
    "from dotenv import load_dotenv\n",
    "\n",
    "load_dotenv()\n",
    "url = \"bolt://10.113.9.197:8087\"\n",
    "username =\"neo4j\"\n",
    "password = \"password\"\n",
    "os.environ[\"OPENAI_API_KEY\"] = \"\"\n",
    "os.environ[\"NEO4J_URI\"] = url\n",
    "os.environ[\"NEO4J_USERNAME\"] = username\n",
    "os.environ[\"NEO4J_PASSWORD\"] = password"
   ]
  },
  {
   "cell_type": "code",
   "execution_count": null,
   "id": "7e58a310-abb9-4cd3-808c-7fde59366389",
   "metadata": {},
   "outputs": [],
   "source": [
    "\n",
    "# Set the OpenAI API key env variable manually\n",
    "os.environ[\"OPENAI_API_KEY\"] = \"\"\n",
    "\n",
    "print(os.environ[\"OPENAI_API_KEY\"])"
   ]
  },
  {
   "cell_type": "code",
   "execution_count": null,
   "id": "9c8cbcdb-74a1-442d-984c-16299073c9e3",
   "metadata": {},
   "outputs": [],
   "source": [
    "from spacy.cli import download\n",
    "download('en_core_web_md')"
   ]
  },
  {
   "cell_type": "code",
   "execution_count": null,
   "id": "2f042ff4-c4ba-43f6-b465-4ac22395eaa5",
   "metadata": {},
   "outputs": [],
   "source": [
    "download('en_core_web_sm')\n"
   ]
  },
  {
   "cell_type": "code",
   "execution_count": null,
   "id": "baa70ff8-5942-472a-b1ff-f1ed77168c88",
   "metadata": {},
   "outputs": [],
   "source": [
    "# Define the path to your text file\n",
    "file_path = \"/home/sridhanya_ganapathi_team_neustar/sridhanya/neo4j/contract-nli/raw/920729_0000891618-96-000819_document_6.txt\"\n",
    "\n",
    "# Read the content of the file into a string\n",
    "with open(file_path, 'r', encoding='utf-8') as file:\n",
    "    raw_text = file.read()"
   ]
  },
  {
   "cell_type": "code",
   "execution_count": null,
   "id": "77c7f281-149f-47af-9c61-8d33a22e5f98",
   "metadata": {},
   "outputs": [],
   "source": [
    "import spacy\n",
    "nlp = spacy.load(\"en_core_web_sm\")"
   ]
  },
  {
   "cell_type": "code",
   "execution_count": null,
   "id": "118caca5-f457-4919-8b70-c67f37caba10",
   "metadata": {},
   "outputs": [],
   "source": [
    "doc = nlp(raw_text)"
   ]
  },
  {
   "cell_type": "code",
   "execution_count": null,
   "id": "595703e4-eb56-4d45-b5fa-994c4706ea4e",
   "metadata": {},
   "outputs": [],
   "source": [
    "summarization_results=raw_text"
   ]
  },
  {
   "cell_type": "code",
   "execution_count": null,
   "id": "fdcf81ea-2f07-4299-afe0-d5163ab02cf5",
   "metadata": {},
   "outputs": [],
   "source": [
    "print(f\"Entities: {[(ent.text, ent.label_) for ent in doc.ents]}\")"
   ]
  },
  {
   "cell_type": "code",
   "execution_count": null,
   "id": "22d6e709-1c79-4af3-91aa-9ca6ddc482d7",
   "metadata": {},
   "outputs": [],
   "source": [
    "import os\n",
    "import json\n",
    "import spacy\n",
    "from collections import Counter\n",
    "from pathlib import Path\n",
    "from wasabi import msg\n",
    "from spacy_llm.util import assemble                                       # insert your api key here\n",
    "# traditional spacy NER (Named Recognition Library)\n",
    "def split_document_sent(text):\n",
    "    nlp = spacy.load(\"en_core_web_sm\")\n",
    "    doc = nlp(text)\n",
    "    return [sent.text.strip() for sent in doc.sents] # referencial\n",
    "\n",
    "# spacy-llm relationship extraction\n",
    "def process_text(nlp, text, verbose=False):\n",
    "    doc = nlp(text)\n",
    "    if verbose:\n",
    "        msg.text(f\"Text: {doc.text}\")\n",
    "        msg.text(f\"Entities: {[(ent.text, ent.label_) for ent in doc.ents]}\")\n",
    "        msg.text(\"Relations:\")\n",
    "        for r in doc._.rel:\n",
    "            msg.text(f\"  - {doc.ents[r.dep]} [{r.relation}] {doc.ents[r.dest]}\")\n",
    "    return doc\n",
    "\n",
    "def run_pipeline(config_path, examples_path=None, verbose=False):\n",
    "    if not os.getenv(\"OPENAI_API_KEY\"):\n",
    "        msg.fail(\"OPENAI_API_KEY env variable was not found. Set it and try again.\", exits=1)\n",
    "\n",
    "    nlp = assemble(config_path, overrides={} )\n",
    "\n",
    "    # Initialize counters and storage\n",
    "    processed_data = []\n",
    "    entity_counts = Counter()\n",
    "    relation_counts = Counter()\n",
    "\n",
    "    # Load your articles and news data here\n",
    "    # all_data = news_articles_data + documents\n",
    "\n",
    "    sents = split_document_sent(summarization_results)\n",
    "    for sent in sents:\n",
    "        doc = process_text(nlp, sent, verbose)\n",
    "        entities = [(ent.text, ent.label_) for ent in doc.ents]\n",
    "        relations = [(doc.ents[r.dep].text, r.relation, doc.ents[r.dest].text) for r in doc._.rel]\n",
    "        \n",
    "        # Store processed data\n",
    "        processed_data.append({'text': doc.text, 'entities': entities, 'relations': relations})\n",
    "\n",
    "        # Update counters\n",
    "        entity_counts.update([ent[1] for ent in entities])\n",
    "        relation_counts.update([rel[1] for rel in relations])\n",
    "\n",
    "    # Export to JSON\n",
    "    with open('processed_data.json', 'w') as f:\n",
    "        json.dump(processed_data, f)\n",
    "\n",
    "    # Display summary\n",
    "    msg.text(f\"Entity counts: {entity_counts}\")\n",
    "    msg.text(f\"Relation counts: {relation_counts}\")\n",
    "\n",
    "# Set your configuration paths and flags\n",
    "config_path = Path(\"zeroshot.cfg\")\n",
    "examples_path = None  # or None if not using few-shot\n",
    "verbose = True\n",
    "\n",
    "# Run the pipeline\n",
    "file = run_pipeline(config_path, None, verbose)"
   ]
  },
  {
   "cell_type": "code",
   "execution_count": null,
   "id": "5b73dac2-8aa5-4503-b445-2e07bbe81cce",
   "metadata": {},
   "outputs": [],
   "source": []
  }
 ],
 "metadata": {
  "kernelspec": {
   "display_name": "Python 3 (ipykernel)",
   "language": "python",
   "name": "python3"
  },
  "language_info": {
   "codemirror_mode": {
    "name": "ipython",
    "version": 3
   },
   "file_extension": ".py",
   "mimetype": "text/x-python",
   "name": "python",
   "nbconvert_exporter": "python",
   "pygments_lexer": "ipython3",
   "version": "3.9.18"
  }
 },
 "nbformat": 4,
 "nbformat_minor": 5
}
