{
 "cells": [
  {
   "cell_type": "code",
   "execution_count": null,
   "id": "f181af56-0188-42b3-810a-6de1a956c16c",
   "metadata": {},
   "outputs": [],
   "source": [
    "!pip install --upgrade pip"
   ]
  },
  {
   "cell_type": "code",
   "execution_count": null,
   "id": "4ea0bafe-8441-4fcb-b91f-6e0f81c76fcb",
   "metadata": {},
   "outputs": [],
   "source": [
    "!pip install --upgrade google-cloud-bigquery"
   ]
  },
  {
   "cell_type": "code",
   "execution_count": null,
   "id": "e7eeefe3-34ba-48fe-825c-9b947dabdc22",
   "metadata": {},
   "outputs": [],
   "source": [
    "!pip install  google-generativeai pandas openpyxl plotly"
   ]
  },
  {
   "cell_type": "code",
   "execution_count": null,
   "id": "1eda6de9-4aa1-41d1-aff7-76c60070babe",
   "metadata": {},
   "outputs": [],
   "source": [
    "!pip install --upgrade --force-reinstall flask-sqlalchemy sqlalchemy"
   ]
  },
  {
   "cell_type": "code",
   "execution_count": null,
   "id": "79feca3b-c405-48b1-b50d-af3ad2103c23",
   "metadata": {},
   "outputs": [],
   "source": [
    "pip install 'pyspark-ai[all]@git+https://github.com/asl3/pyspark-ai.git@add-all-dependency-group'"
   ]
  },
  {
   "cell_type": "code",
   "execution_count": null,
   "id": "08f6f08c-dd75-45cf-a622-118b510b0d00",
   "metadata": {},
   "outputs": [],
   "source": [
    "!pip install \"pyspark-ai[all]\"\n"
   ]
  },
  {
   "cell_type": "code",
   "execution_count": null,
   "id": "412db799-868f-4d48-8804-61f4038b2ac5",
   "metadata": {},
   "outputs": [],
   "source": [
    "!pip install google-cloud-aiplatform\n",
    "!pip install langchain"
   ]
  },
  {
   "cell_type": "code",
   "execution_count": null,
   "id": "d187b735-1106-4336-b2f8-ad4724a89593",
   "metadata": {},
   "outputs": [],
   "source": [
    "!pip install --upgrade langchain-google-vertexai"
   ]
  },
  {
   "cell_type": "markdown",
   "id": "304ead44-232c-4d06-a79d-f7a0bb23c34e",
   "metadata": {},
   "source": [
    "## Check Spark kernel connection"
   ]
  },
  {
   "cell_type": "code",
   "execution_count": null,
   "id": "eb91e3d0-ba25-4d30-b4c8-8f9ecf36f174",
   "metadata": {},
   "outputs": [],
   "source": [
    "!pip install matplotlib"
   ]
  },
  {
   "cell_type": "code",
   "execution_count": null,
   "id": "73a89499-4cbd-4044-8f53-3b8d0df34968",
   "metadata": {},
   "outputs": [],
   "source": [
    "sc"
   ]
  },
  {
   "cell_type": "code",
   "execution_count": null,
   "id": "a8fa46f4-8ae8-43a4-8d6b-e34b04ea2e85",
   "metadata": {},
   "outputs": [],
   "source": [
    "SparkSession"
   ]
  },
  {
   "cell_type": "code",
   "execution_count": null,
   "id": "2a65ceee-fcae-49cb-ad68-9d28e792f22e",
   "metadata": {},
   "outputs": [],
   "source": [
    "spark.conf.set(\"spark.sql.execution.arrow.pyspark.enabled\", \"true\")"
   ]
  },
  {
   "cell_type": "markdown",
   "id": "99ad93a7-480d-42ce-ac47-cdbc4c8fb03d",
   "metadata": {},
   "source": [
    "### Check if it is able to connect to Hive"
   ]
  },
  {
   "cell_type": "code",
   "execution_count": null,
   "id": "8102280e-04e2-4339-b5d6-e6b94a29cb76",
   "metadata": {},
   "outputs": [],
   "source": [
    "mafmetrics = spark.sql(\"SELECT * FROM schema.table LIMIT 50\")\n"
   ]
  },
  {
   "cell_type": "code",
   "execution_count": null,
   "id": "44eb18b3-0ff5-4da6-8190-582ca0ab3f6d",
   "metadata": {},
   "outputs": [],
   "source": [
    "pandas_mafmetrics = mafmetrics.toPandas()\n",
    "\n",
    "# pandas_datehour_totals.set_index('datehour', inplace=True)\n",
    "pandas_mafmetrics.head()"
   ]
  },
  {
   "cell_type": "code",
   "execution_count": null,
   "id": "18e51e68-67fe-4bca-82a5-48a42c0e06b1",
   "metadata": {},
   "outputs": [],
   "source": [
    "import warnings\n",
    "warnings.filterwarnings('error', category=DeprecationWarning)"
   ]
  },
  {
   "cell_type": "code",
   "execution_count": null,
   "id": "53ae1d19-d377-4a5d-8d45-d4cc5b5390e2",
   "metadata": {},
   "outputs": [],
   "source": [
    "import sys,os,os.path\n",
    "#Just to avoid the warnings\n",
    "os.environ[\"OPENAI_API_KEY\"] = \"junk\""
   ]
  },
  {
   "cell_type": "code",
   "execution_count": null,
   "id": "eff1c179-1d5c-43bd-a8e2-07dc6867845b",
   "metadata": {},
   "outputs": [],
   "source": [
    "import vertexai\n",
    "\n",
    "PROJECT_ID = \"\"  # @param {type:\"string\"}\n",
    "REGION = \"\"  # @param {type:\"string\"}\n",
    "\n",
    "# Initialize Vertex AI SDK\n",
    "vertexai.init(project=PROJECT_ID, location=REGION)"
   ]
  },
  {
   "cell_type": "code",
   "execution_count": null,
   "id": "d9d9d431-fcee-4203-bb49-fc2493832bd2",
   "metadata": {},
   "outputs": [],
   "source": [
    "# Utils\n",
    "from langchain.schema import HumanMessage, SystemMessage\n",
    "# from langchain.llms import VertexAI\n",
    "from langchain_google_vertexai import VertexAI\n",
    "from langchain.embeddings import VertexAIEmbeddings\n",
    "# from langchain.chat_models import ChatVertexAI\n",
    "from langchain_google_vertexai import ChatVertexAI\n",
    "from google.cloud import aiplatform\n",
    "import time\n",
    "from typing import List\n",
    "\n",
    "\n",
    "# LangChain\n",
    "import langchain\n",
    "from pydantic import BaseModel\n",
    "\n",
    "from pyspark.sql.functions import expr\n"
   ]
  },
  {
   "cell_type": "code",
   "execution_count": null,
   "id": "caabcded-5af3-4df6-a1db-89601525e4a1",
   "metadata": {},
   "outputs": [],
   "source": [
    "print(f\"LangChain version: {langchain.__version__}\")\n",
    "\n",
    "# Vertex AI\n",
    "\n",
    "print(f\"Vertex AI SDK version: {aiplatform.__version__}\")"
   ]
  },
  {
   "cell_type": "markdown",
   "id": "5023b6ae-6f6e-4d08-a202-e32b011005cd",
   "metadata": {},
   "source": [
    "### Initialization "
   ]
  },
  {
   "cell_type": "code",
   "execution_count": null,
   "id": "4f127b7f-070b-4505-9985-934cec916457",
   "metadata": {},
   "outputs": [],
   "source": [
    "modelgardenchatmodel1 = ChatVertexAI(\n",
    "    model_name=\"chat-bison@001\", max_output_tokens=1000, temperature=0.2\n",
    ")"
   ]
  },
  {
   "cell_type": "code",
   "execution_count": null,
   "id": "9551cd56-6c15-42ed-8248-5314b006aef2",
   "metadata": {},
   "outputs": [],
   "source": [
    "modelgardenchatmodel2 = ChatVertexAI(\n",
    "    model_name=\"chat-bison@002\", max_output_tokens=1000, temperature=0.2\n",
    ")"
   ]
  },
  {
   "cell_type": "code",
   "execution_count": null,
   "id": "973f0517-1e1a-4250-a4ea-69d514e28e82",
   "metadata": {},
   "outputs": [],
   "source": [
    "modelgardenchatmodel2 = ChatVertexAI(\n",
    "    model_name=\"codechat-bison@002\", max_output_tokens=1000, temperature=0.2\n",
    ")"
   ]
  },
  {
   "cell_type": "code",
   "execution_count": null,
   "id": "70e9b376-1e5e-4189-865c-001de3c17b8b",
   "metadata": {},
   "outputs": [],
   "source": [
    "from pyspark_ai import SparkAI\n",
    "\n",
    "spark_ai = SparkAI(llm=modelgardenchatmodel1,vector_store_dir=\"temp/\", verbose=True)\n",
    "spark_ai.activate()  # active partial functions for Spark DataFrame"
   ]
  },
  {
   "cell_type": "code",
   "execution_count": null,
   "id": "bf10bb1b-11c4-4806-8621-1a9d485c4f00",
   "metadata": {},
   "outputs": [],
   "source": [
    "agentresponse = mafmetrics.ai.explain()"
   ]
  },
  {
   "cell_type": "code",
   "execution_count": null,
   "id": "ff88b8be-2e69-42d6-a063-e010925c7cd3",
   "metadata": {},
   "outputs": [],
   "source": [
    "agentresponse"
   ]
  },
  {
   "cell_type": "code",
   "execution_count": null,
   "id": "c18794d3-5165-4485-9e0f-efc50fdd34d9",
   "metadata": {},
   "outputs": [],
   "source": [
    "mafmetrics.ai.transform(\"what all type are available?\").show()\n"
   ]
  },
  {
   "cell_type": "code",
   "execution_count": null,
   "id": "b9fb0fe8-79c0-455b-b94e-ec6474ee6af4",
   "metadata": {},
   "outputs": [],
   "source": [
    "mafmetrics.ai.transform(\"what is total count of Distros with residential filter?\").show()"
   ]
  },
  {
   "cell_type": "code",
   "execution_count": null,
   "id": "c2bb0cb2-f5a3-47c7-a68a-50ab32b78cac",
   "metadata": {},
   "outputs": [],
   "source": [
    "mafmetrics.ai.transform(\"which type has highest count\").show()\n"
   ]
  },
  {
   "cell_type": "code",
   "execution_count": null,
   "id": "b9141574-cb2a-4b80-a6e1-4b79f0d5d6ec",
   "metadata": {},
   "outputs": [],
   "source": [
    "mafmetrics2 = mafmetrics.ai.transform(\"get data by type and count\")\n"
   ]
  },
  {
   "cell_type": "code",
   "execution_count": null,
   "id": "9a00b7f7-6c16-4fa8-9335-f3b6aa1740de",
   "metadata": {},
   "outputs": [],
   "source": [
    "mafmetrics2.ai.plot()\n"
   ]
  },
  {
   "cell_type": "code",
   "execution_count": null,
   "id": "7fdbce2b-29cb-42d6-a7ff-bade2689945b",
   "metadata": {},
   "outputs": [],
   "source": [
    "mafmetrics2.head()"
   ]
  },
  {
   "cell_type": "code",
   "execution_count": null,
   "id": "af06cd6c-7c26-4bf0-b642-eb43342c9e26",
   "metadata": {},
   "outputs": [],
   "source": [
    "mafmetrics2.ai.plot()"
   ]
  },
  {
   "cell_type": "code",
   "execution_count": null,
   "id": "e0b82d52-ab24-4f65-b580-cf471ced09fc",
   "metadata": {},
   "outputs": [],
   "source": [
    "import plotly.express as px\n",
    "from pyspark.sql import SparkSession\n",
    "from pyspark.sql import functions as F\n",
    "import pandas as pd\n",
    "\n",
    "\n",
    "# Aggregate the data\n",
    "df_agg = mafmetrics.groupBy(\"type\").agg(F.sum(\"count\").alias(\"total_count\"))\n",
    "\n",
    "# Convert the Spark DataFrame to a pandas DataFrame\n",
    "df_pd = df_agg.toPandas()\n",
    "\n",
    "# Create a pie chart\n",
    "fig = px.pie(df_pd, values=\"total_count\", names=\"type\", title=\"Count by Type\")\n",
    "\n",
    "# Display the plot\n",
    "fig.show()"
   ]
  },
  {
   "cell_type": "code",
   "execution_count": null,
   "id": "3e9ef508-ef9c-42bf-aaf9-b4c48e5ba829",
   "metadata": {},
   "outputs": [],
   "source": [
    "df_agg = mafmetrics.groupBy(\"type\").agg(F.sum(\"count\").alias(\"total_count\"))\n",
    "df_pd = df_agg.toPandas()"
   ]
  },
  {
   "cell_type": "code",
   "execution_count": null,
   "id": "b813c195-1dd2-4938-94b4-8717cea569ef",
   "metadata": {},
   "outputs": [],
   "source": [
    "df_agg.show()"
   ]
  },
  {
   "cell_type": "code",
   "execution_count": null,
   "id": "6483f68d-6e8b-46d6-8309-2b419f919e85",
   "metadata": {},
   "outputs": [],
   "source": [
    "fig = px.pie(df_pd, values=\"total_count\", names=\"type\", title=\"Count by Type\")\n"
   ]
  },
  {
   "cell_type": "markdown",
   "id": "16d7c288-2827-4569-a788-13e5d11b05ec",
   "metadata": {},
   "source": [
    "### Only for udf we use chat-bison@001"
   ]
  },
  {
   "cell_type": "code",
   "execution_count": null,
   "id": "4e3e1d3f-f775-4755-ad55-c1301b0e4a44",
   "metadata": {},
   "outputs": [],
   "source": [
    "from pyspark_ai import SparkAI\n",
    "\n",
    "spark_ai = SparkAI(llm=chat1,verbose=True)\n",
    "spark_ai.activate() "
   ]
  },
  {
   "cell_type": "markdown",
   "id": "f4918363-a3e6-4b9e-a737-5cdf31ea5e80",
   "metadata": {},
   "source": [
    "### Now lets create udf "
   ]
  },
  {
   "cell_type": "code",
   "execution_count": null,
   "id": "02776021-8c88-49d2-af90-3ebbd10829d1",
   "metadata": {},
   "outputs": [],
   "source": [
    "@spark_ai.udf\n",
    "def full_name(first_name: str, last_name: str) -> str:\n",
    "    \"\"\"combine first name and last name.\n",
    "       If field is missing replace it by None. All imports should be inside function.\n",
    "    \"\"\"\n",
    "    ..."
   ]
  },
  {
   "cell_type": "markdown",
   "id": "93a43273-b322-4204-badf-759dbd0b526f",
   "metadata": {},
   "source": [
    "### test the udf"
   ]
  },
  {
   "cell_type": "code",
   "execution_count": null,
   "id": "c32a3c72-4231-44ae-ba6b-6a69441467fe",
   "metadata": {},
   "outputs": [],
   "source": [
    "from pyspark.sql.functions import lit\n",
    "from pyspark.sql.types import StringType\n",
    "from pyspark.sql.functions import col, udf\n",
    "\n",
    "spark.udf.register(\"full_name\", full_name, returnType=StringType())\n",
    "results = (\n",
    "    cnbdata\n",
    "    .withColumn(\"first_name\", col(\"first_name\"))\n",
    "    .withColumn(\"last_name\", col(\"last_name\"))\n",
    "    .withColumn(\"full_name\", expr(\"full_name(first_name, last_name)\"))\n",
    ")"
   ]
  },
  {
   "cell_type": "code",
   "execution_count": null,
   "id": "f5f6551a-eef5-490a-9e62-8cfcaf7a997c",
   "metadata": {},
   "outputs": [],
   "source": [
    "results.head()"
   ]
  },
  {
   "cell_type": "markdown",
   "id": "da016f91-7a06-4973-a8d6-d4819025e001",
   "metadata": {},
   "source": [
    "### Transform Accuracy Improvement: Vector Similarity Search"
   ]
  },
  {
   "cell_type": "code",
   "execution_count": null,
   "id": "310a5b7a-240a-4cb0-9d94-d2a70a20716a",
   "metadata": {},
   "outputs": [],
   "source": []
  }
 ],
 "metadata": {
  "kernelspec": {
   "display_name": "Python 3 (ipykernel)",
   "language": "python",
   "name": "python3"
  },
  "language_info": {
   "codemirror_mode": {
    "name": "ipython",
    "version": 3
   },
   "file_extension": ".py",
   "mimetype": "text/x-python",
   "name": "python",
   "nbconvert_exporter": "python",
   "pygments_lexer": "ipython3",
   "version": "3.9.18"
  }
 },
 "nbformat": 4,
 "nbformat_minor": 5
}
